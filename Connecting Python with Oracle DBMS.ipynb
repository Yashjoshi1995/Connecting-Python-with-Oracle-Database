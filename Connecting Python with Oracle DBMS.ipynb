{
 "cells": [
  {
   "cell_type": "code",
   "execution_count": 1,
   "metadata": {},
   "outputs": [
    {
     "name": "stdout",
     "output_type": "stream",
     "text": [
      "Collecting cx_Oracle\n",
      "  Downloading https://files.pythonhosted.org/packages/49/5a/c445cf6702b7ce9c46ea85406195bc29ece54ed82dc5534f115db47d5069/cx_Oracle-7.3.0-cp37-cp37m-win_amd64.whl (189kB)\n",
      "Installing collected packages: cx-Oracle\n",
      "Successfully installed cx-Oracle-7.3.0\n"
     ]
    }
   ],
   "source": [
    "# !pip install cx_Oracle - Python module that enables access to oracle database"
   ]
  },
  {
   "cell_type": "code",
   "execution_count": 2,
   "metadata": {},
   "outputs": [],
   "source": [
    "import cx_Oracle"
   ]
  },
  {
   "cell_type": "code",
   "execution_count": 5,
   "metadata": {},
   "outputs": [
    {
     "name": "stdout",
     "output_type": "stream",
     "text": [
      "('Ellen',)\n",
      "('Sundar',)\n",
      "('Mozhe',)\n",
      "('David',)\n",
      "('Hermann',)\n",
      "('Shelli',)\n",
      "('Amit',)\n",
      "('Elizabeth',)\n",
      "('Sarah',)\n",
      "('David',)\n",
      "('Laura',)\n",
      "('Harrison',)\n",
      "('Alexis',)\n",
      "('Anthony',)\n",
      "('Gerald',)\n",
      "('Nanette',)\n",
      "('John',)\n",
      "('Kelly',)\n",
      "('Karen',)\n",
      "('Curtis',)\n",
      "('Lex',)\n",
      "('Julia',)\n",
      "('Jennifer',)\n",
      "('Louise',)\n",
      "('Bruce',)\n",
      "('Alberto',)\n",
      "('Britney',)\n",
      "('Daniel',)\n",
      "('Pat',)\n",
      "('Kevin',)\n",
      "('Jean',)\n",
      "('Tayler',)\n",
      "('Adam',)\n",
      "('Timothy',)\n",
      "('Ki',)\n",
      "('Girard',)\n",
      "('William',)\n",
      "('Douglas',)\n",
      "('Kimberely',)\n",
      "('Nancy',)\n",
      "('Danielle',)\n",
      "('Peter',)\n",
      "('Michael',)\n",
      "('Shelley',)\n",
      "('Guy',)\n",
      "('Alexander',)\n",
      "('Alyssa',)\n",
      "('Charles',)\n",
      "('Vance',)\n",
      "('Payam',)\n",
      "('Alexander',)\n",
      "('Janette',)\n",
      "('Steven',)\n",
      "('Neena',)\n",
      "('Sundita',)\n",
      "('Renske',)\n",
      "('James',)\n",
      "('David',)\n",
      "('Jack',)\n",
      "('Diana',)\n",
      "('Jason',)\n",
      "('Steven',)\n",
      "('James',)\n",
      "('Mattea',)\n",
      "('Randall',)\n",
      "('Susan',)\n",
      "('Samuel',)\n",
      "('Allan',)\n",
      "('Irene',)\n",
      "('Kevin',)\n",
      "('Julia',)\n",
      "('Donald',)\n",
      "('Christopher',)\n",
      "('TJ',)\n",
      "('Lisa',)\n",
      "('Karen',)\n",
      "('Valli',)\n",
      "('Joshua',)\n",
      "('Randall',)\n",
      "('Hazel',)\n",
      "('Luis',)\n",
      "('Trenna',)\n",
      "('Den',)\n",
      "('Michael',)\n",
      "('John',)\n",
      "('Nandita',)\n",
      "('Ismael',)\n",
      "('John',)\n",
      "('Sarath',)\n",
      "('Lindsey',)\n",
      "('William',)\n",
      "('Stephen',)\n",
      "('Martha',)\n",
      "('Patrick',)\n",
      "('Jonathon',)\n",
      "('Winston',)\n",
      "('Sigal',)\n",
      "('Peter',)\n",
      "('Oliver',)\n",
      "('Jose Manuel',)\n",
      "('Peter',)\n",
      "('Clara',)\n",
      "('Shanta',)\n",
      "('Alana',)\n",
      "('Matthew',)\n",
      "('Jennifer',)\n",
      "('Eleni',)\n"
     ]
    }
   ],
   "source": [
    "conn=cx_Oracle.connect(\"hr/hr@localhost\")\n",
    "cur=conn.cursor()\n",
    "cur.execute(\"select first_name from employees\") # queries are given as the arguments for .execute()\n",
    "for line in cur:\n",
    "    print(line)\n",
    "cur.close()\n",
    "conn.close()"
   ]
  },
  {
   "cell_type": "code",
   "execution_count": 12,
   "metadata": {},
   "outputs": [
    {
     "name": "stdout",
     "output_type": "stream",
     "text": [
      "('Ellen', 'Abel', 80)\n",
      "('Sundar', 'Ande', 80)\n",
      "('Amit', 'Banda', 80)\n",
      "('Elizabeth', 'Bates', 80)\n",
      "('David', 'Bernstein', 80)\n",
      "('Harrison', 'Bloom', 80)\n",
      "('Gerald', 'Cambrault', 80)\n",
      "('Nanette', 'Cambrault', 80)\n",
      "('Louise', 'Doran', 80)\n",
      "('Alberto', 'Errazuriz', 80)\n",
      "('Tayler', 'Fox', 80)\n",
      "('Danielle', 'Greene', 80)\n",
      "('Peter', 'Hall', 80)\n",
      "('Alyssa', 'Hutton', 80)\n",
      "('Charles', 'Johnson', 80)\n",
      "('Janette', 'King', 80)\n",
      "('Sundita', 'Kumar', 80)\n",
      "('David', 'Lee', 80)\n",
      "('Jack', 'Livingston', 80)\n",
      "('Mattea', 'Marvins', 80)\n",
      "('Allan', 'McEwen', 80)\n",
      "('Christopher', 'Olsen', 80)\n",
      "('Lisa', 'Ozer', 80)\n",
      "('Karen', 'Partners', 80)\n",
      "('John', 'Russell', 80)\n",
      "('Sarath', 'Sewall', 80)\n",
      "('Lindsey', 'Smith', 80)\n",
      "('William', 'Smith', 80)\n",
      "('Patrick', 'Sully', 80)\n",
      "('Jonathon', 'Taylor', 80)\n",
      "('Peter', 'Tucker', 80)\n",
      "('Oliver', 'Tuvault', 80)\n",
      "('Clara', 'Vishney', 80)\n",
      "('Eleni', 'Zlotkey', 80)\n"
     ]
    },
    {
     "data": {
      "text/plain": [
       "<cx_Oracle.Cursor on <cx_Oracle.Connection to hr@localhost>>"
      ]
     },
     "execution_count": 12,
     "metadata": {},
     "output_type": "execute_result"
    }
   ],
   "source": [
    "conn=cx_Oracle.connect(\"hr/hr@localhost\")\n",
    "cur=conn.cursor()\n",
    "cur.execute(\"select first_name, last_name,department_id from employees where department_id=80\")\n",
    "for line in cur:\n",
    "    print(line)\n",
    "cur.execute(\"select job_id,max(salary) from employees group by (job_id) order by max(salary) desc\")"
   ]
  },
  {
   "cell_type": "code",
   "execution_count": 13,
   "metadata": {},
   "outputs": [
    {
     "name": "stdout",
     "output_type": "stream",
     "text": [
      "('AD_PRES', 24000)\n",
      "('AD_VP', 17000)\n",
      "('SA_MAN', 14000)\n",
      "('MK_MAN', 13000)\n",
      "('AC_MGR', 12008)\n",
      "('FI_MGR', 12008)\n",
      "('SA_REP', 11500)\n",
      "('PU_MAN', 11000)\n",
      "('PR_REP', 10000)\n",
      "('FI_ACCOUNT', 9000)\n",
      "('IT_PROG', 9000)\n",
      "('AC_ACCOUNT', 8300)\n",
      "('ST_MAN', 8200)\n",
      "('HR_REP', 6500)\n",
      "('MK_REP', 6000)\n",
      "('AD_ASST', 4400)\n",
      "('SH_CLERK', 4200)\n",
      "('ST_CLERK', 3600)\n",
      "('PU_CLERK', 3100)\n"
     ]
    }
   ],
   "source": [
    "for line in cur:\n",
    "    print(line)"
   ]
  },
  {
   "cell_type": "code",
   "execution_count": 14,
   "metadata": {},
   "outputs": [
    {
     "ename": "AttributeError",
     "evalue": "'cx_Oracle.Cursor' object has no attribute 'value_counts'",
     "output_type": "error",
     "traceback": [
      "\u001b[1;31m---------------------------------------------------------------------------\u001b[0m",
      "\u001b[1;31mAttributeError\u001b[0m                            Traceback (most recent call last)",
      "\u001b[1;32m<ipython-input-14-914181441ab4>\u001b[0m in \u001b[0;36m<module>\u001b[1;34m\u001b[0m\n\u001b[1;32m----> 1\u001b[1;33m \u001b[0mcur\u001b[0m\u001b[1;33m.\u001b[0m\u001b[0mvalue_counts\u001b[0m\u001b[1;33m(\u001b[0m\u001b[1;33m)\u001b[0m\u001b[1;33m\u001b[0m\u001b[1;33m\u001b[0m\u001b[0m\n\u001b[0m",
      "\u001b[1;31mAttributeError\u001b[0m: 'cx_Oracle.Cursor' object has no attribute 'value_counts'"
     ]
    }
   ],
   "source": [
    "cur.value_counts()"
   ]
  },
  {
   "cell_type": "code",
   "execution_count": null,
   "metadata": {},
   "outputs": [],
   "source": []
  }
 ],
 "metadata": {
  "kernelspec": {
   "display_name": "Python 3",
   "language": "python",
   "name": "python3"
  },
  "language_info": {
   "codemirror_mode": {
    "name": "ipython",
    "version": 3
   },
   "file_extension": ".py",
   "mimetype": "text/x-python",
   "name": "python",
   "nbconvert_exporter": "python",
   "pygments_lexer": "ipython3",
   "version": "3.7.3"
  }
 },
 "nbformat": 4,
 "nbformat_minor": 2
}
